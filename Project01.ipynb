{
 "cells": [
  {
   "cell_type": "code",
   "execution_count": null,
   "id": "dd4dbb16",
   "metadata": {},
   "outputs": [],
   "source": [
    "#voting system"
   ]
  },
  {
   "cell_type": "code",
   "execution_count": null,
   "id": "c215c657",
   "metadata": {},
   "outputs": [],
   "source": [
    "candidate={\"c1\":0,\"c2\":0,\"c3\":0}\n",
    "unacceptable=0\n",
    "voters={1001,1002,1003,1004,1005,1006,1007,1008,1009,1010}\n",
    "\n",
    "for i in voters:\n",
    "    vote=input(\"Registation number {}, please give your vote(c1,c2,c3):\".format(i)).lower()\n",
    "    \n",
    "    \n",
    "    if vote in candidate:\n",
    "        candidate[vote]+=1\n",
    "    else:\n",
    "        unacceptable+=1\n",
    "print(candidate)\n",
    "print(unacceptable)"
   ]
  },
  {
   "cell_type": "code",
   "execution_count": null,
   "id": "d140ced3",
   "metadata": {},
   "outputs": [],
   "source": [
    "#voting system with variable"
   ]
  },
  {
   "cell_type": "code",
   "execution_count": null,
   "id": "7387fa90",
   "metadata": {},
   "outputs": [],
   "source": [
    "def voting_system():\n",
    "    candidate={\"c1\":0,\"c2\":0,\"c3\":0}\n",
    "    unacceptable=0\n",
    "    voters={1001,1002,1003,1004,1005,1006,1007,1008,1009,1010}\n",
    "\n",
    "    for i in voters:\n",
    "        vote=input(\"Registation number {}, please give your vote(c1,c2,c3):\".format(i)).lower()\n",
    "\n",
    "\n",
    "        if vote in candidate:\n",
    "            candidate[vote]+=1\n",
    "        else:\n",
    "            unacceptable+=1\n",
    "            \n",
    "    return candidate,unacceptable"
   ]
  },
  {
   "cell_type": "code",
   "execution_count": null,
   "id": "2913db5a",
   "metadata": {},
   "outputs": [],
   "source": [
    "voting_system() #variable call to work system"
   ]
  },
  {
   "cell_type": "code",
   "execution_count": null,
   "id": "68f31237",
   "metadata": {},
   "outputs": [],
   "source": []
  }
 ],
 "metadata": {
  "kernelspec": {
   "display_name": "Python 3 (ipykernel)",
   "language": "python",
   "name": "python3"
  },
  "language_info": {
   "codemirror_mode": {
    "name": "ipython",
    "version": 3
   },
   "file_extension": ".py",
   "mimetype": "text/x-python",
   "name": "python",
   "nbconvert_exporter": "python",
   "pygments_lexer": "ipython3",
   "version": "3.9.12"
  }
 },
 "nbformat": 4,
 "nbformat_minor": 5
}
